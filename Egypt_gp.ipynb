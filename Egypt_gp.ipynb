{
  "nbformat": 4,
  "nbformat_minor": 0,
  "metadata": {
    "colab": {
      "provenance": []
    },
    "kernelspec": {
      "name": "python3",
      "display_name": "Python 3"
    }
  },
  "cells": [
    {
      "cell_type": "markdown",
      "metadata": {
        "id": "FoHsQnTVPyqM"
      },
      "source": [
        "#How to upload an image to Colab?"
      ]
    },
    {
      "cell_type": "markdown",
      "metadata": {
        "id": "ryAQC-3gP0qC"
      },
      "source": [
        "# Use libraries\n"
      ]
    },
    {
      "cell_type": "code",
      "source": [
        "import numpy as np\n",
        "import tensorflow as tf\n",
        "from tensorflow import keras\n",
        "\n",
        "# Display\n",
        "from IPython.display import Image, display\n",
        "import matplotlib.pyplot as plt\n",
        "import matplotlib.cm as cm\n",
        "import io\n",
        "import os\n",
        "import cv2 as cv\n",
        "from PIL import Image\n",
        "import PIL\n",
        "\n",
        "# Import the necessary libraries\n",
        "from PIL import Image\n",
        "from numpy import asarray"
      ],
      "metadata": {
        "id": "lCZVSjk5iVAE"
      },
      "execution_count": 1,
      "outputs": []
    },
    {
      "cell_type": "code",
      "metadata": {
        "id": "RPVqkNhgPlv0"
      },
      "source": [
        "from google.colab import files\n",
        "from IPython.display import Image"
      ],
      "execution_count": 2,
      "outputs": []
    },
    {
      "cell_type": "code",
      "metadata": {
        "id": "oXd5i9OvQN5p",
        "outputId": "0b1070b8-c764-4ecc-ee48-b8bef31e442a",
        "colab": {
          "base_uri": "https://localhost:8080/",
          "height": 73
        }
      },
      "source": [
        "uploaded = files.upload()"
      ],
      "execution_count": 3,
      "outputs": [
        {
          "output_type": "display_data",
          "data": {
            "text/plain": [
              "<IPython.core.display.HTML object>"
            ],
            "text/html": [
              "\n",
              "     <input type=\"file\" id=\"files-b60a6857-17e0-4f7c-9264-9b25f452311d\" name=\"files[]\" multiple disabled\n",
              "        style=\"border:none\" />\n",
              "     <output id=\"result-b60a6857-17e0-4f7c-9264-9b25f452311d\">\n",
              "      Upload widget is only available when the cell has been executed in the\n",
              "      current browser session. Please rerun this cell to enable.\n",
              "      </output>\n",
              "      <script>// Copyright 2017 Google LLC\n",
              "//\n",
              "// Licensed under the Apache License, Version 2.0 (the \"License\");\n",
              "// you may not use this file except in compliance with the License.\n",
              "// You may obtain a copy of the License at\n",
              "//\n",
              "//      http://www.apache.org/licenses/LICENSE-2.0\n",
              "//\n",
              "// Unless required by applicable law or agreed to in writing, software\n",
              "// distributed under the License is distributed on an \"AS IS\" BASIS,\n",
              "// WITHOUT WARRANTIES OR CONDITIONS OF ANY KIND, either express or implied.\n",
              "// See the License for the specific language governing permissions and\n",
              "// limitations under the License.\n",
              "\n",
              "/**\n",
              " * @fileoverview Helpers for google.colab Python module.\n",
              " */\n",
              "(function(scope) {\n",
              "function span(text, styleAttributes = {}) {\n",
              "  const element = document.createElement('span');\n",
              "  element.textContent = text;\n",
              "  for (const key of Object.keys(styleAttributes)) {\n",
              "    element.style[key] = styleAttributes[key];\n",
              "  }\n",
              "  return element;\n",
              "}\n",
              "\n",
              "// Max number of bytes which will be uploaded at a time.\n",
              "const MAX_PAYLOAD_SIZE = 100 * 1024;\n",
              "\n",
              "function _uploadFiles(inputId, outputId) {\n",
              "  const steps = uploadFilesStep(inputId, outputId);\n",
              "  const outputElement = document.getElementById(outputId);\n",
              "  // Cache steps on the outputElement to make it available for the next call\n",
              "  // to uploadFilesContinue from Python.\n",
              "  outputElement.steps = steps;\n",
              "\n",
              "  return _uploadFilesContinue(outputId);\n",
              "}\n",
              "\n",
              "// This is roughly an async generator (not supported in the browser yet),\n",
              "// where there are multiple asynchronous steps and the Python side is going\n",
              "// to poll for completion of each step.\n",
              "// This uses a Promise to block the python side on completion of each step,\n",
              "// then passes the result of the previous step as the input to the next step.\n",
              "function _uploadFilesContinue(outputId) {\n",
              "  const outputElement = document.getElementById(outputId);\n",
              "  const steps = outputElement.steps;\n",
              "\n",
              "  const next = steps.next(outputElement.lastPromiseValue);\n",
              "  return Promise.resolve(next.value.promise).then((value) => {\n",
              "    // Cache the last promise value to make it available to the next\n",
              "    // step of the generator.\n",
              "    outputElement.lastPromiseValue = value;\n",
              "    return next.value.response;\n",
              "  });\n",
              "}\n",
              "\n",
              "/**\n",
              " * Generator function which is called between each async step of the upload\n",
              " * process.\n",
              " * @param {string} inputId Element ID of the input file picker element.\n",
              " * @param {string} outputId Element ID of the output display.\n",
              " * @return {!Iterable<!Object>} Iterable of next steps.\n",
              " */\n",
              "function* uploadFilesStep(inputId, outputId) {\n",
              "  const inputElement = document.getElementById(inputId);\n",
              "  inputElement.disabled = false;\n",
              "\n",
              "  const outputElement = document.getElementById(outputId);\n",
              "  outputElement.innerHTML = '';\n",
              "\n",
              "  const pickedPromise = new Promise((resolve) => {\n",
              "    inputElement.addEventListener('change', (e) => {\n",
              "      resolve(e.target.files);\n",
              "    });\n",
              "  });\n",
              "\n",
              "  const cancel = document.createElement('button');\n",
              "  inputElement.parentElement.appendChild(cancel);\n",
              "  cancel.textContent = 'Cancel upload';\n",
              "  const cancelPromise = new Promise((resolve) => {\n",
              "    cancel.onclick = () => {\n",
              "      resolve(null);\n",
              "    };\n",
              "  });\n",
              "\n",
              "  // Wait for the user to pick the files.\n",
              "  const files = yield {\n",
              "    promise: Promise.race([pickedPromise, cancelPromise]),\n",
              "    response: {\n",
              "      action: 'starting',\n",
              "    }\n",
              "  };\n",
              "\n",
              "  cancel.remove();\n",
              "\n",
              "  // Disable the input element since further picks are not allowed.\n",
              "  inputElement.disabled = true;\n",
              "\n",
              "  if (!files) {\n",
              "    return {\n",
              "      response: {\n",
              "        action: 'complete',\n",
              "      }\n",
              "    };\n",
              "  }\n",
              "\n",
              "  for (const file of files) {\n",
              "    const li = document.createElement('li');\n",
              "    li.append(span(file.name, {fontWeight: 'bold'}));\n",
              "    li.append(span(\n",
              "        `(${file.type || 'n/a'}) - ${file.size} bytes, ` +\n",
              "        `last modified: ${\n",
              "            file.lastModifiedDate ? file.lastModifiedDate.toLocaleDateString() :\n",
              "                                    'n/a'} - `));\n",
              "    const percent = span('0% done');\n",
              "    li.appendChild(percent);\n",
              "\n",
              "    outputElement.appendChild(li);\n",
              "\n",
              "    const fileDataPromise = new Promise((resolve) => {\n",
              "      const reader = new FileReader();\n",
              "      reader.onload = (e) => {\n",
              "        resolve(e.target.result);\n",
              "      };\n",
              "      reader.readAsArrayBuffer(file);\n",
              "    });\n",
              "    // Wait for the data to be ready.\n",
              "    let fileData = yield {\n",
              "      promise: fileDataPromise,\n",
              "      response: {\n",
              "        action: 'continue',\n",
              "      }\n",
              "    };\n",
              "\n",
              "    // Use a chunked sending to avoid message size limits. See b/62115660.\n",
              "    let position = 0;\n",
              "    do {\n",
              "      const length = Math.min(fileData.byteLength - position, MAX_PAYLOAD_SIZE);\n",
              "      const chunk = new Uint8Array(fileData, position, length);\n",
              "      position += length;\n",
              "\n",
              "      const base64 = btoa(String.fromCharCode.apply(null, chunk));\n",
              "      yield {\n",
              "        response: {\n",
              "          action: 'append',\n",
              "          file: file.name,\n",
              "          data: base64,\n",
              "        },\n",
              "      };\n",
              "\n",
              "      let percentDone = fileData.byteLength === 0 ?\n",
              "          100 :\n",
              "          Math.round((position / fileData.byteLength) * 100);\n",
              "      percent.textContent = `${percentDone}% done`;\n",
              "\n",
              "    } while (position < fileData.byteLength);\n",
              "  }\n",
              "\n",
              "  // All done.\n",
              "  yield {\n",
              "    response: {\n",
              "      action: 'complete',\n",
              "    }\n",
              "  };\n",
              "}\n",
              "\n",
              "scope.google = scope.google || {};\n",
              "scope.google.colab = scope.google.colab || {};\n",
              "scope.google.colab._files = {\n",
              "  _uploadFiles,\n",
              "  _uploadFilesContinue,\n",
              "};\n",
              "})(self);\n",
              "</script> "
            ]
          },
          "metadata": {}
        },
        {
          "output_type": "stream",
          "name": "stdout",
          "text": [
            "Saving egypt_gp.png to egypt_gp.png\n"
          ]
        }
      ]
    },
    {
      "cell_type": "code",
      "metadata": {
        "id": "e3RuLhrCQbzI",
        "outputId": "1c658606-41a6-43ad-edb9-35c5f9ff16f7",
        "colab": {
          "base_uri": "https://localhost:8080/"
        }
      },
      "source": [
        "img = Image('egypt_gp.png')\n",
        "print(type(img))"
      ],
      "execution_count": 4,
      "outputs": [
        {
          "output_type": "stream",
          "name": "stdout",
          "text": [
            "<class 'IPython.core.display.Image'>\n"
          ]
        }
      ]
    },
    {
      "cell_type": "code",
      "source": [
        "im = plt.imread(\"egypt_gp.png\")\n",
        "# fig, ax = plt.subplots()\n",
        "# im = plt.imshow(im)\n",
        "plt.matshow(im)\n",
        "plt.show()\n",
        "# resized_heat_map = cv.resize(im, dsize= (350,500))\n",
        "# plt.imshow(resized_heat_map)"
      ],
      "metadata": {
        "colab": {
          "base_uri": "https://localhost:8080/",
          "height": 437
        },
        "id": "eqosnbJp7hYR",
        "outputId": "5d6d6003-74b6-4e7f-b12b-f54505bdc11d"
      },
      "execution_count": 6,
      "outputs": [
        {
          "output_type": "display_data",
          "data": {
            "text/plain": [
              "<Figure size 685.714x480 with 1 Axes>"
            ],
            "image/png": "[encoded data removed]"
          },
          "metadata": {}
        }
      ]
    },
    {
      "cell_type": "code",
      "source": [
        "import numpy as np\n",
        "from skimage.measure import label\n",
        "import tensorflow as tf\n",
        "import io\n",
        "from PIL import Image\n",
        "\n",
        "#Binarize a saliency map using a threshold\n",
        "def binarize(saliency_map, threshold):\n",
        "    \n",
        "    #Get the dimensions of the saliency map\n",
        "    h, w,e = saliency_map.shape\n",
        "    \n",
        "    #The binarized version of the saliency map\n",
        "    result = np.zeros((h,w))\n",
        "    \n",
        "    for i in range(h):\n",
        "        \n",
        "        for j in range(w):\n",
        "            \n",
        "            if(saliency_map[i][j][0] >= threshold[0]):\n",
        "                \n",
        "                result[i][j] = 1\n",
        "                \n",
        "    return result\n",
        "\n",
        "#Donne la valeur moyenne des pixels dans une carte de chaleur\n",
        "def get_average(saliency_map):\n",
        "    \n",
        "    #Les dimensions de la carte de chaleur\n",
        "    n, m ,k= saliency_map.shape\n",
        "    \n",
        "    #La moyenne au départ elle est à 0\n",
        "    average = 0\n",
        "    \n",
        "    #Je somme pour chaque pixel\n",
        "    for i in range(n):\n",
        "        \n",
        "        for j in range(m):\n",
        "            \n",
        "            average += saliency_map[i][j]\n",
        "       \n",
        "    # ma moyenne c'est la somme divisé par le nombre de pixels\n",
        "    return average/(n*m)"
      ],
      "metadata": {
        "id": "G8yvTDwPXnkI"
      },
      "execution_count": 7,
      "outputs": []
    },
    {
      "cell_type": "code",
      "source": [
        "avearge_saliency = get_average(im)\n",
        "mask = binarize(im, avearge_saliency)\n",
        "plt.imshow(mask, \"gray\")\n"
      ],
      "metadata": {
        "colab": {
          "base_uri": "https://localhost:8080/",
          "height": 429
        },
        "id": "n85Jm4z8VrtR",
        "outputId": "da5c50d1-6040-483b-de53-e5e972cae40c"
      },
      "execution_count": 8,
      "outputs": [
        {
          "output_type": "execute_result",
          "data": {
            "text/plain": [
              "<matplotlib.image.AxesImage at 0x7f8670e1ee50>"
            ]
          },
          "metadata": {},
          "execution_count": 8
        },
        {
          "output_type": "display_data",
          "data": {
            "text/plain": [
              "<Figure size 640x480 with 1 Axes>"
            ],
            "image/png": "[encoded data removed]"
          },
          "metadata": {}
        }
      ]
    },
    {
      "cell_type": "code",
      "source": [
        "#Retourne la plus grande boite qui entoure la composante connexe\n",
        "def get_bounding_box(image):\n",
        "    \n",
        "    #Dimension de l'image\n",
        "    n, m = image.shape\n",
        "    \n",
        "    #La coordonnée la plus haute\n",
        "    upper = 0\n",
        "    \n",
        "    #La plus petite coordonnée dans l'image\n",
        "    lower = 0\n",
        "    \n",
        "    #La coordonnée la plus à gauche\n",
        "    left_result = n\n",
        "    \n",
        "    #La coordonnée la plus à droite\n",
        "    right_result = 0\n",
        "    \n",
        "    #Pour savoir si la première bande supérieur a été trouvée\n",
        "    first_bound = True\n",
        "    \n",
        "    #Pour chaque ligne\n",
        "    for i in range(n):\n",
        "        \n",
        "        #Je cherhce le pixel le plus à gauche\n",
        "        left = n\n",
        "        \n",
        "        #et le pixel le plus à droite\n",
        "        right = 0\n",
        "        \n",
        "        #et je regarde si la colonne contient au moins un pixel\n",
        "        contain_pixel = False\n",
        "        \n",
        "        #Pour chaque colonne\n",
        "        for j in range(m):\n",
        "            \n",
        "            #Si l'image contient un pixel à 1\n",
        "            if(image[i][j]) :\n",
        "                \n",
        "                #Je sais que je suis à la première colonne\n",
        "                contain_pixel = True\n",
        "                \n",
        "                #Je compare quel pixel et le plus à gauche\n",
        "                if(j < left):\n",
        "                \n",
        "                    left = j\n",
        "                    \n",
        "                if(j > right):\n",
        "                    \n",
        "                    right = j\n",
        "                    \n",
        "        if(left < left_result):\n",
        "            \n",
        "            left_result = left\n",
        "            \n",
        "        if(right > right_result):\n",
        "            \n",
        "            right_result = right\n",
        "        \n",
        "        if(contain_pixel and first_bound):\n",
        "            \n",
        "            upper = i\n",
        "            first_bound = False\n",
        "            \n",
        "        elif(contain_pixel and not first_bound):\n",
        "            \n",
        "            lower = i\n",
        "            \n",
        "    return [upper, left_result], abs(left_result-right_result), abs(upper-lower)\n",
        "\n",
        "def make_matrix(mask, coordinates):\n",
        "    \n",
        "    result = np.zeros(mask.shape)\n",
        "    \n",
        "    for i in range(coordinates[0][0], coordinates[0][0]+coordinates[2]):\n",
        "        \n",
        "        for j in range(coordinates[0][1], coordinates[0][1]+coordinates[1]):\n",
        "            \n",
        "            result[i][j] = 1\n",
        "            \n",
        "    return result"
      ],
      "metadata": {
        "id": "H-PlsaLoMhAE"
      },
      "execution_count": 9,
      "outputs": []
    },
    {
      "cell_type": "code",
      "source": [
        "predicted_box = make_matrix(mask, get_bounding_box(mask))\n",
        "plt.imshow(predicted_box, \"gray\")"
      ],
      "metadata": {
        "colab": {
          "base_uri": "https://localhost:8080/",
          "height": 429
        },
        "id": "57xYbzgRMbnV",
        "outputId": "577fa16a-40ef-4156-8357-55e7aa1df6f0"
      },
      "execution_count": 10,
      "outputs": [
        {
          "output_type": "execute_result",
          "data": {
            "text/plain": [
              "<matplotlib.image.AxesImage at 0x7f866ce29220>"
            ]
          },
          "metadata": {},
          "execution_count": 10
        },
        {
          "output_type": "display_data",
          "data": {
            "text/plain": [
              "<Figure size 640x480 with 1 Axes>"
            ],
            "image/png": "[encoded data removed]"
          },
          "metadata": {}
        }
      ]
    },
    {
      "cell_type": "code",
      "source": [
        "uploaded = files.upload()"
      ],
      "metadata": {
        "colab": {
          "base_uri": "https://localhost:8080/",
          "height": 38
        },
        "id": "sWf-Q7DPQVMH",
        "outputId": "70b3490c-75c4-4d73-9e2a-2a48f2d31e8a"
      },
      "execution_count": null,
      "outputs": [
        {
          "output_type": "display_data",
          "data": {
            "text/plain": [
              "<IPython.core.display.HTML object>"
            ],
            "text/html": [
              "\n",
              "     <input type=\"file\" id=\"files-28e25d64-e483-4154-84d0-b76014210b55\" name=\"files[]\" multiple disabled\n",
              "        style=\"border:none\" />\n",
              "     <output id=\"result-28e25d64-e483-4154-84d0-b76014210b55\">\n",
              "      Upload widget is only available when the cell has been executed in the\n",
              "      current browser session. Please rerun this cell to enable.\n",
              "      </output>\n",
              "      <script>// Copyright 2017 Google LLC\n",
              "//\n",
              "// Licensed under the Apache License, Version 2.0 (the \"License\");\n",
              "// you may not use this file except in compliance with the License.\n",
              "// You may obtain a copy of the License at\n",
              "//\n",
              "//      http://www.apache.org/licenses/LICENSE-2.0\n",
              "//\n",
              "// Unless required by applicable law or agreed to in writing, software\n",
              "// distributed under the License is distributed on an \"AS IS\" BASIS,\n",
              "// WITHOUT WARRANTIES OR CONDITIONS OF ANY KIND, either express or implied.\n",
              "// See the License for the specific language governing permissions and\n",
              "// limitations under the License.\n",
              "\n",
              "/**\n",
              " * @fileoverview Helpers for google.colab Python module.\n",
              " */\n",
              "(function(scope) {\n",
              "function span(text, styleAttributes = {}) {\n",
              "  const element = document.createElement('span');\n",
              "  element.textContent = text;\n",
              "  for (const key of Object.keys(styleAttributes)) {\n",
              "    element.style[key] = styleAttributes[key];\n",
              "  }\n",
              "  return element;\n",
              "}\n",
              "\n",
              "// Max number of bytes which will be uploaded at a time.\n",
              "const MAX_PAYLOAD_SIZE = 100 * 1024;\n",
              "\n",
              "function _uploadFiles(inputId, outputId) {\n",
              "  const steps = uploadFilesStep(inputId, outputId);\n",
              "  const outputElement = document.getElementById(outputId);\n",
              "  // Cache steps on the outputElement to make it available for the next call\n",
              "  // to uploadFilesContinue from Python.\n",
              "  outputElement.steps = steps;\n",
              "\n",
              "  return _uploadFilesContinue(outputId);\n",
              "}\n",
              "\n",
              "// This is roughly an async generator (not supported in the browser yet),\n",
              "// where there are multiple asynchronous steps and the Python side is going\n",
              "// to poll for completion of each step.\n",
              "// This uses a Promise to block the python side on completion of each step,\n",
              "// then passes the result of the previous step as the input to the next step.\n",
              "function _uploadFilesContinue(outputId) {\n",
              "  const outputElement = document.getElementById(outputId);\n",
              "  const steps = outputElement.steps;\n",
              "\n",
              "  const next = steps.next(outputElement.lastPromiseValue);\n",
              "  return Promise.resolve(next.value.promise).then((value) => {\n",
              "    // Cache the last promise value to make it available to the next\n",
              "    // step of the generator.\n",
              "    outputElement.lastPromiseValue = value;\n",
              "    return next.value.response;\n",
              "  });\n",
              "}\n",
              "\n",
              "/**\n",
              " * Generator function which is called between each async step of the upload\n",
              " * process.\n",
              " * @param {string} inputId Element ID of the input file picker element.\n",
              " * @param {string} outputId Element ID of the output display.\n",
              " * @return {!Iterable<!Object>} Iterable of next steps.\n",
              " */\n",
              "function* uploadFilesStep(inputId, outputId) {\n",
              "  const inputElement = document.getElementById(inputId);\n",
              "  inputElement.disabled = false;\n",
              "\n",
              "  const outputElement = document.getElementById(outputId);\n",
              "  outputElement.innerHTML = '';\n",
              "\n",
              "  const pickedPromise = new Promise((resolve) => {\n",
              "    inputElement.addEventListener('change', (e) => {\n",
              "      resolve(e.target.files);\n",
              "    });\n",
              "  });\n",
              "\n",
              "  const cancel = document.createElement('button');\n",
              "  inputElement.parentElement.appendChild(cancel);\n",
              "  cancel.textContent = 'Cancel upload';\n",
              "  const cancelPromise = new Promise((resolve) => {\n",
              "    cancel.onclick = () => {\n",
              "      resolve(null);\n",
              "    };\n",
              "  });\n",
              "\n",
              "  // Wait for the user to pick the files.\n",
              "  const files = yield {\n",
              "    promise: Promise.race([pickedPromise, cancelPromise]),\n",
              "    response: {\n",
              "      action: 'starting',\n",
              "    }\n",
              "  };\n",
              "\n",
              "  cancel.remove();\n",
              "\n",
              "  // Disable the input element since further picks are not allowed.\n",
              "  inputElement.disabled = true;\n",
              "\n",
              "  if (!files) {\n",
              "    return {\n",
              "      response: {\n",
              "        action: 'complete',\n",
              "      }\n",
              "    };\n",
              "  }\n",
              "\n",
              "  for (const file of files) {\n",
              "    const li = document.createElement('li');\n",
              "    li.append(span(file.name, {fontWeight: 'bold'}));\n",
              "    li.append(span(\n",
              "        `(${file.type || 'n/a'}) - ${file.size} bytes, ` +\n",
              "        `last modified: ${\n",
              "            file.lastModifiedDate ? file.lastModifiedDate.toLocaleDateString() :\n",
              "                                    'n/a'} - `));\n",
              "    const percent = span('0% done');\n",
              "    li.appendChild(percent);\n",
              "\n",
              "    outputElement.appendChild(li);\n",
              "\n",
              "    const fileDataPromise = new Promise((resolve) => {\n",
              "      const reader = new FileReader();\n",
              "      reader.onload = (e) => {\n",
              "        resolve(e.target.result);\n",
              "      };\n",
              "      reader.readAsArrayBuffer(file);\n",
              "    });\n",
              "    // Wait for the data to be ready.\n",
              "    let fileData = yield {\n",
              "      promise: fileDataPromise,\n",
              "      response: {\n",
              "        action: 'continue',\n",
              "      }\n",
              "    };\n",
              "\n",
              "    // Use a chunked sending to avoid message size limits. See b/62115660.\n",
              "    let position = 0;\n",
              "    do {\n",
              "      const length = Math.min(fileData.byteLength - position, MAX_PAYLOAD_SIZE);\n",
              "      const chunk = new Uint8Array(fileData, position, length);\n",
              "      position += length;\n",
              "\n",
              "      const base64 = btoa(String.fromCharCode.apply(null, chunk));\n",
              "      yield {\n",
              "        response: {\n",
              "          action: 'append',\n",
              "          file: file.name,\n",
              "          data: base64,\n",
              "        },\n",
              "      };\n",
              "\n",
              "      let percentDone = fileData.byteLength === 0 ?\n",
              "          100 :\n",
              "          Math.round((position / fileData.byteLength) * 100);\n",
              "      percent.textContent = `${percentDone}% done`;\n",
              "\n",
              "    } while (position < fileData.byteLength);\n",
              "  }\n",
              "\n",
              "  // All done.\n",
              "  yield {\n",
              "    response: {\n",
              "      action: 'complete',\n",
              "    }\n",
              "  };\n",
              "}\n",
              "\n",
              "scope.google = scope.google || {};\n",
              "scope.google.colab = scope.google.colab || {};\n",
              "scope.google.colab._files = {\n",
              "  _uploadFiles,\n",
              "  _uploadFilesContinue,\n",
              "};\n",
              "})(self);\n",
              "</script> "
            ]
          },
          "metadata": {}
        }
      ]
    },
    {
      "cell_type": "code",
      "source": [
        "def read_trimap(path):\n",
        "    \n",
        "    with tf.io.gfile.GFile(path, 'rb') as fid:\n",
        "        \n",
        "        encoded_mask_png = fid.read()\n",
        "    \n",
        "    encoded_png_io = io.BytesIO(encoded_mask_png)\n",
        "    \n",
        "    return np.array(Image.open(encoded_png_io))\n",
        "\n",
        "\n",
        "#Transform a trimap like the one above into a binary one \n",
        "def transform_trimap(trimap):\n",
        "    \n",
        "    h, w = trimap.shape\n",
        "    \n",
        "    result = []\n",
        "    \n",
        "    for i in range(h):\n",
        "        \n",
        "        line  = []\n",
        "        \n",
        "        for j in range(w):\n",
        "            \n",
        "            if(trimap[i][j] == 2):\n",
        "                \n",
        "                line.append(0)\n",
        "                \n",
        "            else:\n",
        "                \n",
        "                line.append(1)\n",
        "                \n",
        "        result.append(line)\n",
        "                \n",
        "    return np.array(result)"
      ],
      "metadata": {
        "id": "z7-ce3oSQmzo"
      },
      "execution_count": 11,
      "outputs": []
    },
    {
      "cell_type": "code",
      "source": [
        "trimap = read_trimap(\"Egyptian_Mau_1_mask.png\")\n",
        "binary_map = transform_trimap(trimap)\n",
        "ground_truth_box = make_matrix(binary_map, get_bounding_box(binary_map))"
      ],
      "metadata": {
        "id": "qtpj93Ws45YK"
      },
      "execution_count": 12,
      "outputs": []
    },
    {
      "cell_type": "code",
      "source": [
        "fig, ax = plt.subplots(1, 3, figsize = (12, 12))\n",
        "\n",
        "ax[0].imshow(trimap)\n",
        "ax[1].imshow(binary_map, \"gray\")\n",
        "ax[2].imshow(ground_truth_box, \"gray\")"
      ],
      "metadata": {
        "colab": {
          "base_uri": "https://localhost:8080/",
          "height": 274
        },
        "id": "zZAg0eUS5Nfx",
        "outputId": "5fd5b71a-a324-4707-badb-3629f64455b7"
      },
      "execution_count": 13,
      "outputs": [
        {
          "output_type": "execute_result",
          "data": {
            "text/plain": [
              "<matplotlib.image.AxesImage at 0x7f866ccddb50>"
            ]
          },
          "metadata": {},
          "execution_count": 13
        },
        {
          "output_type": "display_data",
          "data": {
            "text/plain": [
              "<Figure size 1200x1200 with 3 Axes>"
            ],
            "image/png": "[encoded data removed]"
          },
          "metadata": {}
        }
      ]
    },
    {
      "cell_type": "code",
      "source": [
        "from math import log\n",
        "from skimage.measure import label\n",
        "import numpy as np\n",
        "\n",
        "##The ground_truth (mask/box)  and the predicted (mask/box) must be in a binary format\n",
        "##Please make sure that the ground_truth (mask/box) exists (the entry must be a matrix that contains at least a pixel with 1 value)\n",
        "def IoU(ground_truth, predicted_mask):\n",
        "    \n",
        "    #verify if the two images has the same dimensions\n",
        "    # assert ground_truth.shape == predicted_mask.shape\n",
        "    \n",
        "    #Get the dimension of the picture\n",
        "    m, n = ground_truth.shape\n",
        "    \n",
        "    #The variable that will contain the value of the intersection of the two masks area\n",
        "    intersection = 0\n",
        "    \n",
        "    #The same but for union\n",
        "    union = 0\n",
        "    \n",
        "    #We iterate on pixels\n",
        "    for i in range(175):\n",
        "        \n",
        "        for j in range(175):\n",
        "            \n",
        "            #If the two of pixels is equal to one that mean that the pixel is in both masks\n",
        "            if(int(ground_truth[i][j]) == 1 and int(predicted_mask[i][j]) == 1):\n",
        "                \n",
        "                intersection += 1\n",
        "                union += 1\n",
        "             \n",
        "            #If the pixel is in one of the twos without being in the other we add 1\n",
        "            if( int(ground_truth[i][j]) == 1 ^ int(predicted_mask[i][j]) == 1):\n",
        "                \n",
        "                union += 1\n",
        "    \n",
        "    return intersection/union\n",
        "\n",
        "#Dice coefficient F1 score\n",
        "#ground truth, preidcted --> (box/mask) must be numpy.array\n",
        "def DC(ground_truth, predicted):\n",
        "\n",
        "    #make sure that the dimensions are the same\n",
        "    # assert ground_truth.shape == predicted.shape\n",
        "\n",
        "    #Get the dimensions of the matrix\n",
        "    h, w = ground_truth.shape\n",
        "\n",
        "    #The number of pixel with 1 as value that are in both of ground_truth and predicted mask or box\n",
        "    TP = 0\n",
        "    #The number of pixels that are in the ground_truth but not in the predicted mask or box\n",
        "    TN = 0\n",
        "    #The same but for predicted instead of ground truth\n",
        "    FN = 0\n",
        "\n",
        "    #We iterate in each pixel in both ground_truth and predicted to see what does match\n",
        "    for i in range(175):\n",
        "\n",
        "        for j in range(175):\n",
        "            \n",
        "            #We verify if they had 1 pixels in commun (intersection)\n",
        "            if(int(ground_truth[i][j]) == 1 and int(predicted[i][j]) == 1):\n",
        "\n",
        "                TP += 1\n",
        "\n",
        "            #To count the number of pixels \"1\" that are in ground_truth but not in predicted\n",
        "            elif(int(ground_truth[i][j]) == 1 and int(predicted[i][j]) == 0):\n",
        "\n",
        "                FN += 1\n",
        "\n",
        "            #Same thing but for predicted\n",
        "            elif(int(ground_truth[i][j]) == 0 and int(predicted[i][j]) == 1):\n",
        "\n",
        "                TN += 1\n",
        "\n",
        "    #The dice formula (2*Union/(cardinality(ground_truth)+cardinality(predicted))\n",
        "    return 2*TP/(2*TP+TN+FN)\n",
        "\n",
        "#Localization error\n",
        "def LE(ground_truth, prediction):\n",
        "    \n",
        "    return 1-IoU(ground_truth, prediction)\n",
        "\n",
        "\n",
        "#Energy pointing game it is equivalent to the \"Pixel-wise precision\"\n",
        "def EPG(ground_truth_mask, saliency_map):\n",
        "\n",
        "\n",
        "    # assert ground_truth_mask.shape ==  saliency_map.shape\n",
        "    \n",
        "    h, w = ground_truth_mask.shape\n",
        "    \n",
        "    #The saliency contained in the ground_truth (mask or box)\n",
        "    ground_truth_saliency = 0\n",
        "    \n",
        "    #The saliency on the hole image\n",
        "    global_saliency = 0\n",
        "    \n",
        "    \n",
        "    for i in range(175):\n",
        "        \n",
        "        for j in range(175):\n",
        "            \n",
        "            #We and the value of the saliency when we have a pixel of 1 in the ground_truth\n",
        "            ground_truth_saliency += float(saliency_map[i][j][0])*int(ground_truth_mask[i][j])\n",
        "            \n",
        "            #We sum the saliency of all pixels\n",
        "            global_saliency += float(saliency_map[i][j][0])\n",
        "\n",
        "    #The formula of energy pointing game\n",
        "    return ground_truth_saliency/global_saliency\n",
        "\n",
        "\n",
        "#The precision for the class of pixels with 1 value\n",
        "def precision(ground_truth, predicted):\n",
        "    \n",
        "    #verify if the dimensions are the same\n",
        "    # assert ground_truth.shape == predicted.shape\n",
        "    \n",
        "    #Get the dimensions of one of the matrices\n",
        "    h, w = ground_truth.shape\n",
        "    \n",
        "    #The well classified pixels\n",
        "    good_predictions = 0\n",
        "    \n",
        "    #The number of pixels with value of one\n",
        "    hypothesis = 0\n",
        "    \n",
        "    for i in range(175):\n",
        "        \n",
        "        for j in range(175):\n",
        "\n",
        "            #If the predicted label correspond to the ground label\n",
        "            if(ground_truth[i][j] == predicted[i][j] and ground_truth[i][j] == 1):\n",
        "                \n",
        "                good_predictions += 1\n",
        "                \n",
        "                hypothesis += 1\n",
        "                \n",
        "            #If it's not\n",
        "            elif(predicted[i][j] == 1 and ground_truth[i][j] == 0):\n",
        "                \n",
        "                hypothesis += 1\n",
        "                \n",
        "    return good_predictions/hypothesis\n",
        "\n",
        "\n",
        "#The recall of class 1 pixels\n",
        "def recall(ground_truth, predicted):\n",
        "\n",
        "    # assert ground_truth.shape == predicted.shape\n",
        "    \n",
        "    h, w = ground_truth.shape\n",
        "    \n",
        "    #Well classified pixels\n",
        "    good_predictions = 0\n",
        "    \n",
        "    #The number of pixels with 1 as value\n",
        "    refrences = 0\n",
        "    \n",
        "    #Same thing as the precision but we calculate the number of references pixels of ground truth\n",
        "    for i in range(175):\n",
        "        \n",
        "        for j in range(175):\n",
        "            \n",
        "            if(ground_truth[i][j] == predicted[i][j] and ground_truth[i][j] == 1):\n",
        "                \n",
        "                good_predictions += 1\n",
        "                refrences += 1\n",
        "                \n",
        "            elif(ground_truth[i][j] == 1 and predicted[i][j] == 0):\n",
        "                \n",
        "                refrences += 1\n",
        "                \n",
        "    return good_predictions/refrences\n",
        "\n",
        "\n",
        "#The beta F-score \n",
        "def F_score(ground_truth, predicted, beta=1):\n",
        "    \n",
        "    p = precision(ground_truth, predicted)\n",
        "    \n",
        "    r = recall(ground_truth, predicted)\n",
        "    print(p)\n",
        "    print(r)\n",
        "    \n",
        "    return (1+beta**2)*p*r/((beta**2)*p+r)\n",
        "\n",
        "\n",
        "#Calculate the fraction of the ground truth  that is covered by the saliency map\n",
        "def pixel_wise_recall(ground_truth, sallience_map):\n",
        "    \n",
        "    # assert ground_truth.shape == sallience_map.shape\n",
        "    \n",
        "    m, n = ground_truth.shape\n",
        "    \n",
        "    ground_truth_saliency = 0\n",
        "    \n",
        "    refrences = 0\n",
        "    \n",
        "    for i in range(175):\n",
        "        \n",
        "        for j in range(175):\n",
        "            \n",
        "            if(int(ground_truth[i][j]) == 1):\n",
        "                \n",
        "                refrences += 1\n",
        "                \n",
        "                ground_truth_saliency += float(sallience_map[i][j][0])\n",
        "                \n",
        "    \n",
        "    return ground_truth_saliency/refrences\n",
        "\n",
        "\n",
        "#The F_beta score\n",
        "def pixel_wise_F_score(ground_truth, saliency_map, beta=1):\n",
        "    \n",
        "    p = EPG(ground_truth, saliency_map)\n",
        "    \n",
        "    r = pixel_wise_recall(ground_truth, saliency_map)\n",
        "\n",
        "    return (1+beta**2)*(p*r)/((beta**2)*p+r)\n",
        "\n",
        "\n",
        "#Calculate the \"1\" class pixels in a binary mask or box\n",
        "def get_cardinality(predicted):\n",
        "    \n",
        "    h, w = predicted.shape\n",
        "    \n",
        "    result = 0\n",
        "    \n",
        "    for i in range(h):\n",
        "        \n",
        "        for j in range(w):\n",
        "            \n",
        "            if(int(predicted[i][j]) == 1):\n",
        "                \n",
        "                result += 1\n",
        "                \n",
        "    return result\n",
        "\n",
        "#The saliency metric\n",
        "def SM(predicted, probability_class):\n",
        "    \n",
        "    h, w = predicted.shape\n",
        "    \n",
        "    return log( max( 0.05, get_cardinality(predicted) / (h*w) ) ) - log( probability_class )\n",
        "\n",
        "\n",
        "#The absolute mean error\n",
        "def AME(saliency_map, ground_truth):\n",
        "    \n",
        "    # assert saliency_map.shape == ground_truth.shape\n",
        "    \n",
        "    h, w ,v = saliency_map.shape\n",
        "    \n",
        "    result = 0\n",
        "    \n",
        "    for i in range(175):\n",
        "        \n",
        "        for j in range(175):\n",
        "            \n",
        "            result += abs(float(saliency_map[i][j][0]) - int(ground_truth[i][j]))\n",
        "            \n",
        "    return result/(h*w)\n",
        "\n",
        "#The mask and box accuaracy it works for both of them\n",
        "#Max value refer to sigma the second threshold\n",
        "def accuaracy(ground_truths, saliency_maps, thresholds_list, max_value=0.5):\n",
        "    \n",
        "    assert len(ground_truths) == len(saliency_maps)\n",
        "    \n",
        "    results = np.zeros((len(thresholds_list),0))\n",
        "    \n",
        "    for i in range(len(ground_truths)):\n",
        "        \n",
        "        for j in len(thresholds_list):\n",
        "            \n",
        "            if(IoU(ground_truths[i], saliency_maps[i]) >= max_value):\n",
        "                \n",
        "                results[j] += 1\n",
        "                \n",
        "    results = results/len(ground_truths)  \n",
        "    \n",
        "    return np.max(results), results\n",
        "\n",
        "\n",
        "\n",
        "def concept_influence(binary_segmentation_mask, top_k_binary_mask, k = 1_000):\n",
        "    \n",
        "    assert binary_segmentation_mask.shape ==  top_k_binary_mask.shape\n",
        "    \n",
        "    h, w = binary_segmentation_mask.shape\n",
        "    \n",
        "    top_k_binary_mask = 0\n",
        "    \n",
        "    relative_size_concept = 0\n",
        "    \n",
        "    for i in range(h):\n",
        "        \n",
        "        for j in range(w):\n",
        "            \n",
        "            top_k_binary_mask += binary_segmentation_mask[i][j]*top_k_binary_mask[i][j]\n",
        "            \n",
        "            relative_size_concept += binary_segmentation_mask[i][j]\n",
        "    \n",
        "    top_k_binary_mask /= k\n",
        "    \n",
        "    return top_k_binary_mask/relative_size_concept\n",
        "\n",
        "def relevance_rank_accuracy(ground_truth, top_k_pixels):\n",
        "    \n",
        "    h, w = ground_truth.shape\n",
        "    \n",
        "    result = 0\n",
        "    \n",
        "    for pixel in top_k_pixels:\n",
        "        \n",
        "        result += ground_truth[pixel[0]][pixel[1]]\n",
        "        \n",
        "    return result/(h*w)"
      ],
      "metadata": {
        "id": "VNOG0hXsQpHQ"
      },
      "execution_count": 14,
      "outputs": []
    },
    {
      "cell_type": "code",
      "source": [
        "LE(ground_truth_box, predicted_box)"
      ],
      "metadata": {
        "colab": {
          "base_uri": "https://localhost:8080/"
        },
        "id": "1UK_RwPGRKJb",
        "outputId": "dea206d6-a84a-45bc-a528-4f402bf96511"
      },
      "execution_count": 15,
      "outputs": [
        {
          "output_type": "execute_result",
          "data": {
            "text/plain": [
              "0.013698630136986356"
            ]
          },
          "metadata": {},
          "execution_count": 15
        }
      ]
    },
    {
      "cell_type": "code",
      "source": [
        "fig, ax = plt.subplots(1, 2, figsize = (12, 12))\n",
        "\n",
        "ax[0].imshow(predicted_box, \"gray\")\n",
        "ax[1].imshow(ground_truth_box, \"gray\")"
      ],
      "metadata": {
        "colab": {
          "base_uri": "https://localhost:8080/",
          "height": 378
        },
        "id": "7eKjLKsrhB2x",
        "outputId": "9cb06747-f3a6-4e1c-ac25-a0700b6670b8"
      },
      "execution_count": 16,
      "outputs": [
        {
          "output_type": "execute_result",
          "data": {
            "text/plain": [
              "<matplotlib.image.AxesImage at 0x7f866c6e5760>"
            ]
          },
          "metadata": {},
          "execution_count": 16
        },
        {
          "output_type": "display_data",
          "data": {
            "text/plain": [
              "<Figure size 1200x1200 with 2 Axes>"
            ],
            "image/png": "[encoded data removed]"
          },
          "metadata": {}
        }
      ]
    },
    {
      "cell_type": "code",
      "source": [
        "LE(binary_map, mask)"
      ],
      "metadata": {
        "colab": {
          "base_uri": "https://localhost:8080/"
        },
        "id": "4fDpgarxhI82",
        "outputId": "8516de4b-00c2-454e-c462-aeee17b90972"
      },
      "execution_count": 17,
      "outputs": [
        {
          "output_type": "execute_result",
          "data": {
            "text/plain": [
              "0.1779320186818889"
            ]
          },
          "metadata": {},
          "execution_count": 17
        }
      ]
    },
    {
      "cell_type": "code",
      "source": [
        "fig, ax = plt.subplots(1, 2, figsize = (12, 12))\n",
        "\n",
        "ax[0].imshow(binary_map, \"gray\")\n",
        "ax[1].imshow(mask, \"gray\")\n"
      ],
      "metadata": {
        "colab": {
          "base_uri": "https://localhost:8080/",
          "height": 378
        },
        "id": "1inCczJhhOTN",
        "outputId": "208f88ce-9f52-472c-e5b2-1fe328dc1750"
      },
      "execution_count": 18,
      "outputs": [
        {
          "output_type": "execute_result",
          "data": {
            "text/plain": [
              "<matplotlib.image.AxesImage at 0x7f866cb7c3d0>"
            ]
          },
          "metadata": {},
          "execution_count": 18
        },
        {
          "output_type": "display_data",
          "data": {
            "text/plain": [
              "<Figure size 1200x1200 with 2 Axes>"
            ],
            "image/png": "[encoded data removed]"
          },
          "metadata": {}
        }
      ]
    },
    {
      "cell_type": "code",
      "source": [
        "1- DC(binary_map, mask)"
      ],
      "metadata": {
        "colab": {
          "base_uri": "https://localhost:8080/"
        },
        "id": "Cml_32RDhQpG",
        "outputId": "0f9f6e74-7c62-4a4c-8b22-5b3cf5f62b45"
      },
      "execution_count": 19,
      "outputs": [
        {
          "output_type": "execute_result",
          "data": {
            "text/plain": [
              "0.19689480354879596"
            ]
          },
          "metadata": {},
          "execution_count": 19
        }
      ]
    },
    {
      "cell_type": "code",
      "source": [
        "EPG(binary_map, im)"
      ],
      "metadata": {
        "colab": {
          "base_uri": "https://localhost:8080/"
        },
        "id": "m0hTJYPFihY_",
        "outputId": "0fbfa3f9-7985-444a-9f44-c1d3c5016a42"
      },
      "execution_count": 20,
      "outputs": [
        {
          "output_type": "execute_result",
          "data": {
            "text/plain": [
              "0.5649409200989643"
            ]
          },
          "metadata": {},
          "execution_count": 20
        }
      ]
    },
    {
      "cell_type": "code",
      "source": [
        "EPG(ground_truth_box, im)"
      ],
      "metadata": {
        "colab": {
          "base_uri": "https://localhost:8080/"
        },
        "id": "s2-Tl2SYihg0",
        "outputId": "b117dd2d-2a06-462e-8d68-602e8e59f5ce"
      },
      "execution_count": 21,
      "outputs": [
        {
          "output_type": "execute_result",
          "data": {
            "text/plain": [
              "0.8434543764250535"
            ]
          },
          "metadata": {},
          "execution_count": 21
        }
      ]
    },
    {
      "cell_type": "code",
      "source": [
        "pixel_wise_F_score(binary_map, im)"
      ],
      "metadata": {
        "colab": {
          "base_uri": "https://localhost:8080/"
        },
        "id": "cpK5busrnXt9",
        "outputId": "574b0def-32d5-4e61-b051-86aed977ed46"
      },
      "execution_count": 22,
      "outputs": [
        {
          "output_type": "execute_result",
          "data": {
            "text/plain": [
              "0.6405657350359302"
            ]
          },
          "metadata": {},
          "execution_count": 22
        }
      ]
    },
    {
      "cell_type": "code",
      "source": [
        "pixel_wise_F_score(ground_truth_box, im)"
      ],
      "metadata": {
        "colab": {
          "base_uri": "https://localhost:8080/"
        },
        "id": "xNm29qYdHAvY",
        "outputId": "eff3b979-90e5-4b97-b078-8eb38423e83c"
      },
      "execution_count": 23,
      "outputs": [
        {
          "output_type": "execute_result",
          "data": {
            "text/plain": [
              "0.763944154037741"
            ]
          },
          "metadata": {},
          "execution_count": 23
        }
      ]
    },
    {
      "cell_type": "code",
      "source": [
        "AME(im, ground_truth_box)"
      ],
      "metadata": {
        "colab": {
          "base_uri": "https://localhost:8080/"
        },
        "id": "cnGfaZ32HH9-",
        "outputId": "a743e8d7-585a-42c9-c703-ac867939e3a6"
      },
      "execution_count": 24,
      "outputs": [
        {
          "output_type": "execute_result",
          "data": {
            "text/plain": [
              "0.240443243562494"
            ]
          },
          "metadata": {},
          "execution_count": 24
        }
      ]
    },
    {
      "cell_type": "code",
      "source": [
        "AME(im, binary_map)"
      ],
      "metadata": {
        "colab": {
          "base_uri": "https://localhost:8080/"
        },
        "id": "2vl7xmX-IFuC",
        "outputId": "486d74ca-d3bc-4758-b213-668019c546c3"
      },
      "execution_count": 25,
      "outputs": [
        {
          "output_type": "execute_result",
          "data": {
            "text/plain": [
              "0.2924533758194106"
            ]
          },
          "metadata": {},
          "execution_count": 25
        }
      ]
    }
  ]
}